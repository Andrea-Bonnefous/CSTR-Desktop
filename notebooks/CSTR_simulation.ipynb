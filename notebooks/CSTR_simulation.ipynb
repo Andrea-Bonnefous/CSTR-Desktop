{
 "cells": [
  {
   "cell_type": "markdown",
   "id": "2d26dce9",
   "metadata": {},
   "source": [
    "# 🧪 CSTR Simulation Notebook\n",
    "\n",
    "This notebook demonstrates how to run a Continuous Stirred-Tank Reactor (CSTR) simulation using the unified `simulation.py` module.\n",
    "\n",
    "It supports:\n",
    "- Steady-state concentration and conversion calculations\n",
    "- Optional PubChem scraper for catalyst data\n",
    "- Basic concentration visualization"
   ]
  },
  {
   "cell_type": "markdown",
   "id": "2a0243bd",
   "metadata": {},
   "source": [
    "## Analysis of Key Functions in the CSTR Simulator\n",
    "\n",
    "---\n",
    "\n",
    "### 🔹 Function: `set_parameters(...)`\n",
    "**Role:** Initializes the reactor parameters (volume, temperature, flow rates, reactions, composition, recycle, etc.).\n",
    "\n",
    "**Example call:**\n",
    "```python\n",
    "sim.set_parameters(volume=5.0, temperature=600, flow_rate=0.3,\n",
    "                   reactions=[reaction], feed_composition=feed,\n",
    "                   recycle_ratio=0.2, target_product=\"C\")"
   ]
  },
  {
   "cell_type": "markdown",
   "id": "33056195",
   "metadata": {},
   "source": [
    "🔹 Function: solve_steady_state(...)\n",
    "\n",
    "Role: Solves the mass balances at steady state in a CSTR, taking into account the effect of recycle if present.\n",
    "\n",
    "Example call:\n",
    "        conc = sim.solve_steady_state(temperature=600)"
   ]
  }
 ],
 "metadata": {
  "language_info": {
   "name": "python"
  }
 },
 "nbformat": 4,
 "nbformat_minor": 5
}
