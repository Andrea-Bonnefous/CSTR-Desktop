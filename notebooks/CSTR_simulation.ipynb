{
 "cells": [
  {
   "cell_type": "markdown",
   "id": "2a0243bd",
   "metadata": {},
   "source": [
    "<img src=\"./assets/Image_README.png\" width=\"300\" style=\"display: block; margin-left: auto; margin-right: auto;\" />\n",
    "\n",
    "---\n",
    "\n",
    "# **CSTR Simulator**\n",
    "\n",
    "A modular, GUI-integrated simulator for continuous stirred-tank reactors (CSTRs) with recycle loop, temperature optimization, and real industrial case studies.\n",
    "\n",
    "This notebook was created as a collaborative project for the **EPFL** course *Practical Programming in Chemistry* (**CHE-200**).\n",
    "\n",
    "---\n",
    "\n",
    "## Introduction\n",
    "\n",
    "...\n",
    "\n",
    "---\n",
    "\n",
    "## Why Continuous Flow Stirred Reactors?\n",
    "\n",
    "...\n",
    "\n",
    "---\n",
    "\n",
    "## Difficulties \n",
    "\n",
    "..."
   ]
  }
 ],
 "metadata": {
  "language_info": {
   "name": "python"
  }
 },
 "nbformat": 4,
 "nbformat_minor": 5
}
