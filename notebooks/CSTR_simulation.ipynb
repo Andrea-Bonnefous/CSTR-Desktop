{
 "cells": [
  {
   "cell_type": "markdown",
   "id": "2a0243bd",
   "metadata": {},
   "source": [
    "![CSTR Diagram](../assets/Image_README.png)\n",
    "# CSTR Simulator\n",
    "\n",
    "A modular, GUI-integrated simulator for continuous stirred-tank reactors (CSTRs) with recycle loop, temperature optimization, and real industrial case studies.\n",
    "\n",
    "This notebook was created as a collaborative project for the **EPFL** course _Practical Programming in Chemistry (**CHE-200**)_.\n",
    "\n",
    "---\n",
    "\n",
    "## Introduction\n",
    "\n",
    "youpi\n",
    "\n",
    "---\n",
    "\n",
    "## Why Continuous Flow Stirred Reactors?\n",
    "\n",
    "..."
   ]
  },
  {
   "cell_type": "markdown",
   "id": "9d618594",
   "metadata": {},
   "source": [
    "## 🧪 CTSR Simulator – Function Overview\n",
    "\n",
    "Each key function from the simulator and the Streamlit interface is explained below with its **role**, followed by an **example usage** (code block), in the same visual format as MASSIVEChem notebooks.\n",
    "\n",
    "---\n",
    "\n",
    "**🔹 set_parameters(...)**\n",
    "\n",
    "This method initializes the reactor’s key parameters: volume, temperature, feed flow rate, reactions list, feed composition, recycle ratio, and target product.\n"
   ]
  },
  {
   "cell_type": "code",
   "execution_count": 16,
   "id": "cd9f09ca",
   "metadata": {},
   "outputs": [
    {
     "ename": "ModuleNotFoundError",
     "evalue": "No module named 'projet_chem200'",
     "output_type": "error",
     "traceback": [
      "\u001b[0;31m---------------------------------------------------------------------------\u001b[0m",
      "\u001b[0;31mModuleNotFoundError\u001b[0m                       Traceback (most recent call last)",
      "Cell \u001b[0;32mIn[16], line 3\u001b[0m\n\u001b[1;32m      1\u001b[0m \u001b[38;5;28;01mimport\u001b[39;00m\u001b[38;5;250m \u001b[39m\u001b[38;5;21;01msys\u001b[39;00m\u001b[38;5;241m,\u001b[39m\u001b[38;5;250m \u001b[39m\u001b[38;5;21;01mos\u001b[39;00m\n\u001b[1;32m      2\u001b[0m sys\u001b[38;5;241m.\u001b[39mpath\u001b[38;5;241m.\u001b[39mappend(os\u001b[38;5;241m.\u001b[39mpath\u001b[38;5;241m.\u001b[39mabspath(\u001b[38;5;124m\"\u001b[39m\u001b[38;5;124msrc\u001b[39m\u001b[38;5;124m\"\u001b[39m))\n\u001b[0;32m----> 3\u001b[0m \u001b[38;5;28;01mfrom\u001b[39;00m\u001b[38;5;250m \u001b[39m\u001b[38;5;21;01mprojet_chem200\u001b[39;00m\u001b[38;5;21;01m.\u001b[39;00m\u001b[38;5;21;01mcstr_simulator\u001b[39;00m\u001b[38;5;21;01m.\u001b[39;00m\u001b[38;5;21;01mfunctions\u001b[39;00m\u001b[38;5;250m \u001b[39m\u001b[38;5;28;01mimport\u001b[39;00m CSTRSimulator, ReactionDatabase\n\u001b[1;32m      4\u001b[0m sim \u001b[38;5;241m=\u001b[39m CSTRSimulator()\n\u001b[1;32m      5\u001b[0m sim\u001b[38;5;241m.\u001b[39mset_parameters(volume\u001b[38;5;241m=\u001b[39m\u001b[38;5;241m5.0\u001b[39m, temperature\u001b[38;5;241m=\u001b[39m\u001b[38;5;241m600\u001b[39m, flow_rate\u001b[38;5;241m=\u001b[39m\u001b[38;5;241m0.3\u001b[39m,\n\u001b[1;32m      6\u001b[0m                    reactions\u001b[38;5;241m=\u001b[39m[reaction], feed_composition\u001b[38;5;241m=\u001b[39mfeed,\n\u001b[1;32m      7\u001b[0m                    recycle_ratio\u001b[38;5;241m=\u001b[39m\u001b[38;5;241m0.2\u001b[39m, target_product\u001b[38;5;241m=\u001b[39m\u001b[38;5;124m\"\u001b[39m\u001b[38;5;124mC\u001b[39m\u001b[38;5;124m\"\u001b[39m)\n",
      "\u001b[0;31mModuleNotFoundError\u001b[0m: No module named 'projet_chem200'"
     ]
    }
   ],
   "source": [
    "import sys, os\n",
    "sys.path.append(os.path.abspath(\"src\"))\n",
    "from projet_chem200.cstr_simulator.functions import CSTRSimulator, ReactionDatabase\n",
    "sim = CSTRSimulator()\n",
    "sim.set_parameters(volume=5.0, temperature=600, flow_rate=0.3,\n",
    "                   reactions=[reaction], feed_composition=feed,\n",
    "                   recycle_ratio=0.2, target_product=\"C\")"
   ]
  },
  {
   "cell_type": "markdown",
   "id": "24adece6",
   "metadata": {},
   "source": [
    "**🔹 solve_steady_state(...)**\n",
    "\n",
    "Solves the steady-state balance of species in the reactor using mass balance and an optimization algorithm."
   ]
  },
  {
   "cell_type": "code",
   "execution_count": 11,
   "id": "d967a5ef",
   "metadata": {},
   "outputs": [
    {
     "ename": "NameError",
     "evalue": "name 'sim' is not defined",
     "output_type": "error",
     "traceback": [
      "\u001b[0;31m---------------------------------------------------------------------------\u001b[0m",
      "\u001b[0;31mNameError\u001b[0m                                 Traceback (most recent call last)",
      "Cell \u001b[0;32mIn[11], line 1\u001b[0m\n\u001b[0;32m----> 1\u001b[0m results \u001b[38;5;241m=\u001b[39m \u001b[43msim\u001b[49m\u001b[38;5;241m.\u001b[39msolve_steady_state()\n\u001b[1;32m      2\u001b[0m \u001b[38;5;28mprint\u001b[39m(results[\u001b[38;5;124m\"\u001b[39m\u001b[38;5;124mconcentration\u001b[39m\u001b[38;5;124m\"\u001b[39m])\n",
      "\u001b[0;31mNameError\u001b[0m: name 'sim' is not defined"
     ]
    }
   ],
   "source": [
    "results = sim.solve_steady_state()\n",
    "print(results[\"concentration\"])"
   ]
  },
  {
   "cell_type": "markdown",
   "id": "3c3e87c0",
   "metadata": {},
   "source": [
    "**🔹 optimize_temperature(...)**\n",
    "\n",
    "Performs optimization to find the best operating temperature that maximizes the target product concentration."
   ]
  },
  {
   "cell_type": "code",
   "execution_count": null,
   "id": "44d82111",
   "metadata": {},
   "outputs": [],
   "source": [
    "best_temp = sim.optimize_temperature()\n",
    "print(f\"Optimal temperature: {best_temp} K\")"
   ]
  },
  {
   "cell_type": "markdown",
   "id": "d90dec1e",
   "metadata": {},
   "source": [
    "**🔹 run_simulation(...)**\n",
    "\n",
    "Main function that runs the full process simulation from initialization to steady-state computation."
   ]
  },
  {
   "cell_type": "code",
   "execution_count": null,
   "id": "5a76384c",
   "metadata": {},
   "outputs": [],
   "source": [
    "sim.set_parameters(...)  # first set parameters\n",
    "sim.run_simulation()"
   ]
  },
  {
   "cell_type": "markdown",
   "id": "ef55cdec",
   "metadata": {},
   "source": [
    "**🔹 load_reaction_data_from_csv(path)**\n",
    "\n",
    "Utility method in the Streamlit interface to load reaction data from a CSV file."
   ]
  },
  {
   "cell_type": "code",
   "execution_count": null,
   "id": "72cd5108",
   "metadata": {},
   "outputs": [],
   "source": [
    "from cstr_gui.utils import load_reaction_data_from_csv\n",
    "\n",
    "reaction_data = load_reaction_data_from_csv(\"data/reactions.csv\")"
   ]
  },
  {
   "cell_type": "markdown",
   "id": "43c2a53d",
   "metadata": {},
   "source": [
    "**🔹 build_simulator_from_user_input(inputs)**\n",
    "\n",
    "Constructs a CSTRSimulator instance based on values entered in the Streamlit GUI."
   ]
  },
  {
   "cell_type": "code",
   "execution_count": null,
   "id": "34d2a3da",
   "metadata": {},
   "outputs": [],
   "source": [
    "sim = build_simulator_from_user_input(user_inputs)"
   ]
  },
  {
   "cell_type": "markdown",
   "id": "5f70edd5",
   "metadata": {},
   "source": [
    "**🔹 display_results(sim)**\n",
    "\n",
    "Displays the results using Streamlit’s plotting tools."
   ]
  },
  {
   "cell_type": "code",
   "execution_count": null,
   "id": "fca484d8",
   "metadata": {},
   "outputs": [],
   "source": [
    "display_results(sim)"
   ]
  }
 ],
 "metadata": {
  "kernelspec": {
   "display_name": "ppchem",
   "language": "python",
   "name": "python3"
  },
  "language_info": {
   "codemirror_mode": {
    "name": "ipython",
    "version": 3
   },
   "file_extension": ".py",
   "mimetype": "text/x-python",
   "name": "python",
   "nbconvert_exporter": "python",
   "pygments_lexer": "ipython3",
   "version": "3.10.16"
  }
 },
 "nbformat": 4,
 "nbformat_minor": 5
}
