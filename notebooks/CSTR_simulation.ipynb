{
 "cells": [
  {
   "cell_type": "markdown",
   "id": "2a0243bd",
   "metadata": {},
   "source": [
    "![CSTR Diagram](../assets/Image_README.png)\n",
    "# CSTR Simulator\n",
    "\n",
    "A modular, GUI-integrated simulator for continuous stirred-tank reactors (CSTRs) with recycle loop, temperature optimization, and real industrial case studies.\n",
    "\n",
    "This notebook was created as a collaborative project for the **EPFL** course _Practical Programming in Chemistry (**CHE-200**)_.\n",
    "\n",
    "---\n",
    "\n",
    "## Introduction\n",
    "\n",
    "youpi\n",
    "\n",
    "---\n",
    "\n",
    "## Why Continuous Flow Stirred Reactors?\n",
    "\n",
    "..."
   ]
  },
  {
   "cell_type": "markdown",
   "id": "9d618594",
   "metadata": {},
   "source": [
    "## 🧪 CTSR Simulator – Function Overview\n",
    "\n",
    "Each key function from the simulator and the Streamlit interface is explained below with its **role**, followed by an **example usage** (code block), in the same visual format as MASSIVEChem notebooks.\n",
    "\n",
    "---\n",
    "\n",
    "**🔹 set_parameters(...)**\n",
    "\n",
    "This method initializes the reactor’s key parameters: volume, temperature, feed flow rate, reactions list, feed composition, recycle ratio, and target product.\n"
   ]
  },
  {
   "cell_type": "code",
   "execution_count": null,
   "id": "cd9f09ca",
   "metadata": {
    "vscode": {
     "languageId": "plaintext"
    }
   },
   "outputs": [],
   "source": [
    "from cstr_simulator.simulator import CSTRSimulator\n",
    "\n",
    "sim = CSTRSimulator()\n",
    "sim.set_parameters(volume=5.0, temperature=600, flow_rate=0.3,\n",
    "                   reactions=[reaction], feed_composition=feed,\n",
    "                   recycle_ratio=0.2, target_product=\"C\")"
   ]
  },
  {
   "cell_type": "markdown",
   "id": "24adece6",
   "metadata": {},
   "source": [
    "**🔹 solve_steady_state(...)**\n",
    "\n",
    "Solves the steady-state balance of species in the reactor using mass balance and an optimization algorithm."
   ]
  },
  {
   "cell_type": "code",
   "execution_count": null,
   "id": "d967a5ef",
   "metadata": {
    "vscode": {
     "languageId": "plaintext"
    }
   },
   "outputs": [],
   "source": [
    "results = sim.solve_steady_state()\n",
    "print(results[\"concentration\"])"
   ]
  },
  {
   "cell_type": "markdown",
   "id": "3c3e87c0",
   "metadata": {},
   "source": [
    "**🔹 optimize_temperature(...)**\n",
    "\n",
    "Performs optimization to find the best operating temperature that maximizes the target product concentration."
   ]
  },
  {
   "cell_type": "code",
   "execution_count": null,
   "id": "44d82111",
   "metadata": {
    "vscode": {
     "languageId": "plaintext"
    }
   },
   "outputs": [],
   "source": [
    "best_temp = sim.optimize_temperature()\n",
    "print(f\"Optimal temperature: {best_temp} K\")"
   ]
  },
  {
   "cell_type": "markdown",
   "id": "d90dec1e",
   "metadata": {},
   "source": [
    "**🔹 run_simulation(...)**\n",
    "\n",
    "Main function that runs the full process simulation from initialization to steady-state computation."
   ]
  },
  {
   "cell_type": "code",
   "execution_count": null,
   "id": "5a76384c",
   "metadata": {
    "vscode": {
     "languageId": "plaintext"
    }
   },
   "outputs": [],
   "source": [
    "sim.set_parameters(...)  # first set parameters\n",
    "sim.run_simulation()"
   ]
  },
  {
   "cell_type": "markdown",
   "id": "ef55cdec",
   "metadata": {},
   "source": [
    "**🔹 load_reaction_data_from_csv(path)**\n",
    "\n",
    "Utility method in the Streamlit interface to load reaction data from a CSV file."
   ]
  },
  {
   "cell_type": "code",
   "execution_count": null,
   "id": "72cd5108",
   "metadata": {
    "vscode": {
     "languageId": "plaintext"
    }
   },
   "outputs": [],
   "source": [
    "from cstr_gui.utils import load_reaction_data_from_csv\n",
    "\n",
    "reaction_data = load_reaction_data_from_csv(\"data/reactions.csv\")"
   ]
  },
  {
   "cell_type": "markdown",
   "id": "43c2a53d",
   "metadata": {},
   "source": [
    "**🔹 build_simulator_from_user_input(inputs)**\n",
    "\n",
    "Constructs a CSTRSimulator instance based on values entered in the Streamlit GUI."
   ]
  },
  {
   "cell_type": "code",
   "execution_count": null,
   "id": "34d2a3da",
   "metadata": {
    "vscode": {
     "languageId": "plaintext"
    }
   },
   "outputs": [],
   "source": [
    "sim = build_simulator_from_user_input(user_inputs)"
   ]
  },
  {
   "cell_type": "markdown",
   "id": "5f70edd5",
   "metadata": {},
   "source": [
    "**🔹 display_results(sim)**\n",
    "\n",
    "Displays the results using Streamlit’s plotting tools."
   ]
  },
  {
   "cell_type": "code",
   "execution_count": null,
   "id": "fca484d8",
   "metadata": {
    "vscode": {
     "languageId": "plaintext"
    }
   },
   "outputs": [],
   "source": [
    "display_results(sim)"
   ]
  }
 ],
 "metadata": {
  "kernelspec": {
   "display_name": "Python 3 (ipykernel)",
   "language": "python",
   "name": "python3"
  },
  "language_info": {
   "codemirror_mode": {
    "name": "ipython",
    "version": 3
   },
   "file_extension": ".py",
   "mimetype": "text/x-python",
   "name": "python",
   "nbconvert_exporter": "python",
   "pygments_lexer": "ipython3",
   "version": "3.12.7"
  }
 },
 "nbformat": 4,
 "nbformat_minor": 5
}
