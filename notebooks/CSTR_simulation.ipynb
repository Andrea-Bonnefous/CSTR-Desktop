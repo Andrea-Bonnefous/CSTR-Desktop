{
 "cells": [
  {
   "cell_type": "markdown",
   "id": "2a0243bd",
   "metadata": {},
   "source": [
    "![CSTR Diagram](../assets/Image_README.png)\n",
    "# CSTR Simulator\n",
    "\n",
    "A modular, GUI-integrated simulator for continuous stirred-tank reactors (CSTRs) with recycle loop, temperature optimization, and real industrial case studies.\n",
    "\n",
    "This notebook was created as a collaborative project for the **EPFL** course _Practical Programming in Chemistry (**CHE-200**)_.\n",
    "\n",
    "---\n",
    "\n",
    "## Introduction\n",
    "\n",
    "youpi\n",
    "\n",
    "---\n",
    "\n",
    "## Why Continuous Flow Stirred Reactors?\n",
    "\n",
    "..."
   ]
  },
  {
   "cell_type": "markdown",
   "id": "9d618594",
   "metadata": {},
   "source": [
    "## 🧪 CTSR Simulator – Function Overview\n",
    "\n",
    "Each key function from the simulator and the Streamlit interface is explained below with its **role**, followed by an **example usage** (code block), in the same visual format as MASSIVEChem notebooks.\n",
    "\n",
    "---\n",
    "\n",
    "### 🔹 `set_parameters(...)`\n",
    "\n",
    "This method initializes the reactor’s key parameters: volume, temperature, feed flow rate, reactions list, feed composition, recycle ratio, and target product.\n"
   ]
  },
  {
   "cell_type": "code",
   "execution_count": null,
   "id": "cd9f09ca",
   "metadata": {
    "vscode": {
     "languageId": "plaintext"
    }
   },
   "outputs": [],
   "source": [
    "```python\n",
    "from cstr_simulator.simulator import CSTRSimulator\n",
    "\n",
    "sim = CSTRSimulator()\n",
    "sim.set_parameters(volume=5.0, temperature=600, flow_rate=0.3,\n",
    "                   reactions=[reaction], feed_composition=feed,\n",
    "                   recycle_ratio=0.2, target_product=\"C\")"
   ]
  },
  {
   "cell_type": "markdown",
   "id": "24adece6",
   "metadata": {},
   "source": [
    "🔹 solve_steady_state(...)\n",
    "\n",
    "Solves the steady-state balance of species in the reactor using mass balance and an optimization algorithm."
   ]
  },
  {
   "cell_type": "code",
   "execution_count": null,
   "id": "d967a5ef",
   "metadata": {
    "vscode": {
     "languageId": "plaintext"
    }
   },
   "outputs": [],
   "source": [
    "results = sim.solve_steady_state()\n",
    "print(results[\"concentration\"])"
   ]
  }
 ],
 "metadata": {
  "kernelspec": {
   "display_name": "Python 3 (ipykernel)",
   "language": "python",
   "name": "python3"
  },
  "language_info": {
   "codemirror_mode": {
    "name": "ipython",
    "version": 3
   },
   "file_extension": ".py",
   "mimetype": "text/x-python",
   "name": "python",
   "nbconvert_exporter": "python",
   "pygments_lexer": "ipython3",
   "version": "3.12.7"
  }
 },
 "nbformat": 4,
 "nbformat_minor": 5
}
