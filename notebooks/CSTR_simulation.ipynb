{
 "cells": [
  {
   "cell_type": "markdown",
   "id": "2d26dce9",
   "metadata": {},
   "source": [
    "# 🧪 CSTR Simulation Notebook\n",
    "\n",
    "This notebook demonstrates how to run a Continuous Stirred-Tank Reactor (CSTR) simulation using the unified `simulation.py` module.\n",
    "\n",
    "It supports:\n",
    "- Steady-state concentration and conversion calculations\n",
    "- Optional PubChem scraper for catalyst data\n",
    "- Basic concentration visualization"
   ]
  },
  {
   "cell_type": "markdown",
   "id": "7d66ca61",
   "metadata": {},
   "source": []
  }
 ],
 "metadata": {
  "language_info": {
   "name": "python"
  }
 },
 "nbformat": 4,
 "nbformat_minor": 5
}
