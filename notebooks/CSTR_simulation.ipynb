{
 "cells": [
  {
   "cell_type": "markdown",
   "id": "2a0243bd",
   "metadata": {},
   "source": [
    "![CSTR Diagram](../assets/Image_README.png)\n",
    "# CSTR Simulator\n",
    "\n",
    "A modular, GUI-integrated simulator for continuous stirred-tank reactors (CSTRs) with recycle loop, temperature optimization, and real industrial case studies.\n",
    "\n",
    "This notebook was created as a collaborative project for the **EPFL** course _Practical Programming in Chemistry (**CHE-200**)_.\n",
    "\n",
    "---\n",
    "\n",
    "## Introduction\n",
    "\n",
    "youpi\n",
    "\n",
    "---\n",
    "\n",
    "## Why Continuous Flow Stirred Reactors?\n",
    "\n",
    "..."
   ]
  },
  {
   "cell_type": "markdown",
   "id": "ae416f23",
   "metadata": {},
   "source": [
    "## 🔧 Key Functions of the `CSTRSimulator` Class\n",
    "\n",
    "This section presents and tests the most important built-in methods of the `CSTRSimulator` class.  \n",
    "Each function plays a central role in simulating the behavior of a continuous stirred-tank reactor (CSTR), including performance evaluation, kinetics, and efficiency metrics.\n",
    "\n",
    "For each function, you will find:\n",
    "- a short explanation of why it matters,\n",
    "- the Python code to test it with concrete input values,\n",
    "- and the expected output."
   ]
  },
  {
   "cell_type": "code",
   "execution_count": 23,
   "id": "07b1d23d",
   "metadata": {},
   "outputs": [],
   "source": [
    "import sys, os\n",
    "sys.path.append(os.path.abspath(\"../src\"))\n",
    "\n",
    "from projet_chem200.cstr_simulator.functions import CSTRSimulator\n",
    "\n",
    "# Création de l'instance du simulateur\n",
    "sim = CSTRSimulator()\n",
    "\n",
    "# Set the components used in your reactions (required for internal methods)\n",
    "sim.components = [\"A\", \"B\"]  # You can add more if needed, like \"C\", \"D\", etc."
   ]
  },
  {
   "cell_type": "markdown",
   "id": "eebc1a8f",
   "metadata": {},
   "source": [
    "### 1. `calculate_conversion`\n",
    "\n",
    "🔍 Why it's important:\n",
    "\n",
    "Conversion tells us **how much of the initial reactant was consumed** inside the reactor.  \n",
    "It is a key performance metric to assess **reactor efficiency** and **compare operating conditions**."
   ]
  },
  {
   "cell_type": "code",
   "execution_count": 24,
   "id": "321a70e1",
   "metadata": {},
   "outputs": [
    {
     "name": "stdout",
     "output_type": "stream",
     "text": [
      "Conversion of A = 0.7\n"
     ]
    }
   ],
   "source": [
    "inlet = {\"A\": 1.0}    # Inlet concentration (mol/L)\n",
    "outlet = {\"A\": 0.3}   # Outlet concentration (mol/L)\n",
    "\n",
    "X = sim.calculate_conversion(inlet_conc=inlet, outlet_conc=outlet)\n",
    "print(\"Conversion of A =\", X[\"A\"])"
   ]
  },
  {
   "cell_type": "markdown",
   "id": "feffd1b1",
   "metadata": {},
   "source": [
    "### 2. `calculate_yield`\n",
    "\n",
    "🔍 Why it's important:\n",
    "\n",
    "The yield tells us **how much of the desired product is obtained** compared to the amount of reactant consumed.  \n",
    "It is critical for evaluating **reaction efficiency** and **selectivity** in industrial processes."
   ]
  },
  {
   "cell_type": "code",
   "execution_count": 32,
   "id": "36ed0909",
   "metadata": {},
   "outputs": [
    {
     "name": "stdout",
     "output_type": "stream",
     "text": [
      "Yield of B = 0.7\n"
     ]
    }
   ],
   "source": [
    "from projet_chem200.cstr_simulator.functions import CSTRSimulator\n",
    "\n",
    "# 1. Create the simulator instance\n",
    "sim = CSTRSimulator()\n",
    "\n",
    "# 2. Define components and target product\n",
    "sim.components = [\"A\", \"B\"]\n",
    "sim.target_product = \"B\"\n",
    "sim.recycle_ratio = 0.0  # Required to avoid AttributeError\n",
    "\n",
    "# 3. Define a simple reaction: A → B\n",
    "sim.reactions = [\n",
    "    {\n",
    "        \"stoichiometry\": {\"A\": -1, \"B\": 1},\n",
    "        \"reactants\": [\"A\"],\n",
    "        \"products\": [\"B\"]\n",
    "    }\n",
    "]\n",
    "\n",
    "# 4. Set inlet and outlet concentrations\n",
    "inlet = {\"A\": 1.0, \"B\": 0.0}\n",
    "outlet = {\"A\": 0.3, \"B\": 0.7}\n",
    "\n",
    "sim.feed_composition = inlet      # Required for theoretical yield calculation\n",
    "sim.concentrations = outlet       # Simulated outlet concentrations\n",
    "\n",
    "# 5. Calculate yield\n",
    "Y = sim.calculate_yield(product=\"B\")\n",
    "print(\"Yield of B =\", Y)"
   ]
  },
  {
   "cell_type": "markdown",
   "id": "e8f4af06",
   "metadata": {},
   "source": [
    "### 3. `reaction_rate` (via `sim.rate_law`)\n",
    "\n",
    "🔍 Why it's important:\n",
    "\n",
    "The reaction rate determines **how fast the chemical reaction proceeds** inside the reactor.  \n",
    "It is essential for **dimensioning the reactor**, calculating **product formation rates**, and analyzing **temperature or concentration effects**.  \n",
    "In this simulator, the rate law is manually defined using a lambda function."
   ]
  },
  {
   "cell_type": "code",
   "execution_count": 37,
   "id": "5c8e1c27",
   "metadata": {},
   "outputs": [
    {
     "name": "stdout",
     "output_type": "stream",
     "text": [
      "Reaction rate = 2.297483991329831e-06 mol/L/s\n"
     ]
    }
   ],
   "source": [
    "from projet_chem200.cstr_simulator.functions import CSTRSimulator\n",
    "\n",
    "# 1. Create the simulator\n",
    "sim = CSTRSimulator()\n",
    "\n",
    "# 2. Define the reaction data\n",
    "reaction = {\n",
    "    \"frequency_factor\": 1e7,                # A (1/s)\n",
    "    \"activation_energy\": 80000,            # Ea (J/mol)\n",
    "    \"reaction_order\": {\"A\": 1, \"B\": 1},     # r = k * [A]^1 * [B]^1\n",
    "}\n",
    "\n",
    "# 3. Define concentrations and temperature\n",
    "component_conc = {\"A\": 0.5, \"B\": 0.4}  # mol/L\n",
    "temp = 350  # K\n",
    "\n",
    "# 4. Call the method\n",
    "r = sim.reaction_rate(component_conc, temp, reaction)\n",
    "print(\"Reaction rate =\", r, \"mol/L/s\")"
   ]
  },
  {
   "cell_type": "markdown",
   "id": "7b83f672",
   "metadata": {},
   "source": [
    "### 4. `solve_steady_state`\n",
    "\n",
    "🔍 Why it's important:\n",
    "\n",
    "This function calculates the **steady-state concentrations** in the reactor for a given feed, temperature, volume, and recycle ratio.\n",
    "\n",
    "It is the **core engine** of the CSTR simulator, iteratively computing the final concentrations using:\n",
    "- the specified **reaction kinetics** (`reaction_rate`)\n",
    "- **flow and volume conditions**\n",
    "- optional **recycle stream**\n",
    "\n",
    "It stops when the system reaches convergence or the maximum number of iterations."
   ]
  },
  {
   "cell_type": "code",
   "execution_count": 51,
   "id": "2e17c371",
   "metadata": {},
   "outputs": [
    {
     "name": "stdout",
     "output_type": "stream",
     "text": [
      "Steady-state concentrations:\n",
      "B = 0.1149 mol/L\n",
      "A = 0.8851 mol/L\n"
     ]
    }
   ],
   "source": [
    "from projet_chem200.cstr_simulator.functions import CSTRSimulator\n",
    "\n",
    "# 1. Create simulator instance\n",
    "sim = CSTRSimulator()\n",
    "\n",
    "# 2. Define reaction\n",
    "sim.reactions = [{\n",
    "    \"stoichiometry\": {\"A\": -1, \"B\": 1},\n",
    "    \"reactants\": [\"A\"],\n",
    "    \"products\": [\"B\"],\n",
    "    \"frequency_factor\": 1e10,           # A\n",
    "    \"activation_energy\": 80000,       # Ea (J/mol)\n",
    "    \"reaction_order\": {\"A\": 1},       # r = k * [A]\n",
    "}]\n",
    "\n",
    "# 3. Set required components\n",
    "sim.components = [\"A\", \"B\"]\n",
    "sim.feed_composition = {\"A\": 1.0, \"B\": 0.0}\n",
    "\n",
    "# 4. Set reactor parameters (CORRECTED)\n",
    "sim.set_parameters(\n",
    "    feed_composition={\"A\": 1.0, \"B\": 0.0},\n",
    "    reactions=sim.reactions,\n",
    "    volume=1.0,         # m³\n",
    "    temperature=350,    # K\n",
    "    flow_rate=0.1       # m³/s\n",
    ")\n",
    "\n",
    "# 5. Solve for steady state\n",
    "sim.solve_steady_state()\n",
    "\n",
    "# 6. Display final concentrations\n",
    "print(\"Steady-state concentrations:\")\n",
    "for comp, value in sim.concentrations.items():\n",
    "    print(f\"{comp} = {value:.4f} mol/L\")"
   ]
  },
  {
   "cell_type": "markdown",
   "id": "74293bca",
   "metadata": {},
   "source": [
    "### 5. `_verify_mass_balance`\n",
    "\n",
    "🔍 Why it's important:\n",
    "\n",
    "This internal method checks that the **elemental mass balance** is respected between the inlet and outlet streams.  \n",
    "It is especially useful when multiple reactions or recycle streams are involved, and acts as a diagnostic tool to validate steady-state results."
   ]
  },
  {
   "cell_type": "code",
   "execution_count": 52,
   "id": "c3992a62",
   "metadata": {},
   "outputs": [
    {
     "name": "stdout",
     "output_type": "stream",
     "text": [
      "Mass balance verification completed successfully.\n"
     ]
    }
   ],
   "source": [
    "# Use the internal function to verify mass balance at steady state\n",
    "\n",
    "# Re-use inlet and outlet concentrations from earlier simulation\n",
    "inlet = {\"A\": 1.0, \"B\": 0.0}\n",
    "outlet = sim.concentrations          # steady-state concentrations\n",
    "reaction = sim.reactions[0]          # current reaction in simulation\n",
    "\n",
    "# Call internal verification method\n",
    "sim._verify_mass_balance(inlet_conc=inlet, outlet_conc=outlet, reaction=reaction)\n",
    "\n",
    "print(\"Mass balance verification completed successfully.\")"
   ]
  },
  {
   "cell_type": "markdown",
   "id": "f99a1da5",
   "metadata": {},
   "source": [
    "### 6. `optimize_temperature`\n",
    "\n",
    "🔍 Why it's important:\n",
    "\n",
    "This function finds the **optimal temperature** that maximizes the yield of the target product.  \n",
    "It uses a combination of **grid search** and **local optimization** to avoid getting stuck in poor local minima.\n",
    "\n",
    "It calls:\n",
    "- `solve_steady_state(temperature)` to simulate the reactor at each trial temperature,\n",
    "- `calculate_yield()` to evaluate performance,\n",
    "- and returns the temperature that gives the best result.\n",
    "\n",
    "It is essential for analyzing **temperature sensitivity**, optimizing **reaction conditions**, and improving **reactor performance**."
   ]
  },
  {
   "cell_type": "code",
   "execution_count": 54,
   "id": "a8cbed84",
   "metadata": {},
   "outputs": [
    {
     "name": "stdout",
     "output_type": "stream",
     "text": [
      "Optimal temperature = 388.89 K\n",
      "Final yield at optimal T = 1.000\n"
     ]
    }
   ],
   "source": [
    "from projet_chem200.cstr_simulator.functions import CSTRSimulator\n",
    "\n",
    "# 1. Create simulator and define a reaction\n",
    "sim = CSTRSimulator()\n",
    "reaction = {\n",
    "    \"stoichiometry\": {\"A\": -1, \"B\": 1},\n",
    "    \"reactants\": [\"A\"],\n",
    "    \"products\": [\"B\"],\n",
    "    \"frequency_factor\": 1e10,\n",
    "    \"activation_energy\": 80000,\n",
    "    \"reaction_order\": {\"A\": 1},\n",
    "    \"reversible\": False\n",
    "}\n",
    "sim.reactions = [reaction]\n",
    "\n",
    "# 2. Set simulation parameters\n",
    "sim.set_parameters(\n",
    "    volume=1.0,\n",
    "    temperature=300,\n",
    "    flow_rate=0.1,\n",
    "    reactions=sim.reactions,\n",
    "    feed_composition={\"A\": 1.0, \"B\": 0.0},\n",
    "    target_product=\"B\"\n",
    ")\n",
    "\n",
    "# 3. Run temperature optimization\n",
    "optimal_temp = sim.optimize_temperature(bounds=(300, 700))\n",
    "print(f\"Optimal temperature = {optimal_temp:.2f} K\")\n",
    "\n",
    "# 4. Show final yield at that temperature\n",
    "final_yield = sim.calculate_yield()\n",
    "print(f\"Final yield at optimal T = {final_yield:.3f}\")"
   ]
  },
  {
   "cell_type": "markdown",
   "id": "b634cd1c",
   "metadata": {},
   "source": [
    "### 7. `run_simulation`\n",
    "\n",
    "🔍 Why it's important:\n",
    "\n",
    "This is the **top-level simulation function**.  \n",
    "It combines all key steps of the simulator:\n",
    "\n",
    "- solving the steady state,\n",
    "- optimizing the temperature,\n",
    "- calculating product yield, reaction rates, and conversions,\n",
    "- computing recycle and mass balance,\n",
    "- and returning a complete summary of results.\n",
    "\n",
    "It allows for **automated, end-to-end CSTR simulation** in one command."
   ]
  },
  {
   "cell_type": "code",
   "execution_count": 56,
   "id": "1f09ee40",
   "metadata": {},
   "outputs": [
    {
     "name": "stdout",
     "output_type": "stream",
     "text": [
      "\n",
      "===== CSTR SIMULATION RESULTS =====\n",
      "Optimal Temperature: 455.56 K\n",
      "Product Yield: 100.00%\n",
      "Catalyst: None\n",
      "\n",
      "Steady State Concentrations (mol/m³):\n",
      "  B: 1.0000 (TARGET PRODUCT)\n",
      "  A: 0.0000\n",
      "\n",
      "Recycle Stream Concentrations (mol/m³):\n",
      "  B: 0.0000\n",
      "  A: 0.0000\n",
      "\n",
      "Fresh Feed Concentrations (mol/m³):\n",
      "  A: 1.0000\n",
      "  B: 0.0000\n",
      "\n",
      "Exit Flow Rate: 0.1000 m³/s\n",
      "Residence Time: 10.00 s\n",
      "\n",
      "Reaction Rates (mol/m³·s):\n",
      "  Reaction 1: A to B reaction: 0.000000\n",
      "\n",
      "Reactant Conversions:\n",
      "  A: 100.00%\n",
      "\n",
      "Mass Balance Error: 0.0000%\n",
      "\n",
      "Mass Balance Check:\n",
      "  Total Input Concentration: 1.0000 mol/m³\n",
      "  Total Output Concentration: 1.0000 mol/m³\n",
      "  Difference: 0.0000%\n",
      "\n",
      "==================================\n"
     ]
    },
    {
     "data": {
      "text/plain": [
       "{'temperature': 455.55555555555554,\n",
       " 'concentrations': {'B': 1.0, 'A': 0.0},\n",
       " 'recycle_stream': {'B': 0.0, 'A': 0.0},\n",
       " 'yield': 1,\n",
       " 'reaction_rates': {'Reaction 1: A to B reaction': 6.710522079524489e-10},\n",
       " 'conversions': {'A': 1.0},\n",
       " 'residence_time': 10.0,\n",
       " 'catalyst': None,\n",
       " 'mass_balance_error': 0.0,\n",
       " 'elemental_balance': {'total_input_conc': 1.0,\n",
       "  'total_output_conc': 1.0,\n",
       "  'difference_percent': 0.0}}"
      ]
     },
     "execution_count": 56,
     "metadata": {},
     "output_type": "execute_result"
    }
   ],
   "source": [
    "from projet_chem200.cstr_simulator.functions import CSTRSimulator\n",
    "\n",
    "# 1. Create a simulator instance\n",
    "sim = CSTRSimulator()\n",
    "\n",
    "# 2. Define the reaction\n",
    "reaction = {\n",
    "    \"name\": \"A to B reaction\",  # ✅ ajoute cette ligne\n",
    "    \"stoichiometry\": {\"A\": -1, \"B\": 1},\n",
    "    \"reactants\": [\"A\"],\n",
    "    \"products\": [\"B\"],\n",
    "    \"frequency_factor\": 1e10,\n",
    "    \"activation_energy\": 80000,\n",
    "    \"reaction_order\": {\"A\": 1},\n",
    "    \"reversible\": False\n",
    "}\n",
    "sim.reactions = [reaction]\n",
    "\n",
    "# 3. Set the parameters\n",
    "sim.set_parameters(\n",
    "    volume=1.0,\n",
    "    temperature=300,\n",
    "    flow_rate=0.1,\n",
    "    reactions=sim.reactions,\n",
    "    feed_composition={\"A\": 1.0, \"B\": 0.0},\n",
    "    target_product=\"B\"\n",
    ")\n",
    "\n",
    "# 4. Run the full simulation with optimization\n",
    "results = sim.run_simulation(optimize_temp=True)\n",
    "\n",
    "# 5. Print the results (optional)\n",
    "sim.print_results(results)"
   ]
  }
 ],
 "metadata": {
  "kernelspec": {
   "display_name": "ppchem",
   "language": "python",
   "name": "python3"
  },
  "language_info": {
   "codemirror_mode": {
    "name": "ipython",
    "version": 3
   },
   "file_extension": ".py",
   "mimetype": "text/x-python",
   "name": "python",
   "nbconvert_exporter": "python",
   "pygments_lexer": "ipython3",
   "version": "3.10.16"
  }
 },
 "nbformat": 4,
 "nbformat_minor": 5
}
