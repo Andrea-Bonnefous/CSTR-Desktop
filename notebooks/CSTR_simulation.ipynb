{
 "cells": [
  {
   "cell_type": "markdown",
   "id": "2a0243bd",
   "metadata": {},
   "source": [
    "![CSTR Diagram](../assets/Image_README.png)\n",
    "\n",
    "# CSTR Simulator\n",
    "\n",
    "A modular, GUI-integrated simulator for continuous stirred-tank reactors (CSTRs) with recycle loop, temperature optimization, and real industrial case studies.\n",
    "\n",
    "This notebook was created as a collaborative project for the **EPFL** course _Practical Programming in Chemistry (**CHE-200**)_.\n",
    "\n",
    "---\n",
    "\n",
    "## Introduction\n",
    "\n",
    "youpi\n",
    "\n",
    "---\n",
    "\n",
    "## Why Continuous Flow Stirred Reactors?\n",
    "\n",
    "..."
   ]
  }
 ],
 "metadata": {
  "kernelspec": {
   "display_name": "Python 3 (ipykernel)",
   "language": "python",
   "name": "python3"
  },
  "language_info": {
   "codemirror_mode": {
    "name": "ipython",
    "version": 3
   },
   "file_extension": ".py",
   "mimetype": "text/x-python",
   "name": "python",
   "nbconvert_exporter": "python",
   "pygments_lexer": "ipython3",
   "version": "3.12.7"
  }
 },
 "nbformat": 4,
 "nbformat_minor": 5
}
